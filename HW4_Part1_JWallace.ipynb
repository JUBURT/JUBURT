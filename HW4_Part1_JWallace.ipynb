{
  "nbformat": 4,
  "nbformat_minor": 0,
  "metadata": {
    "colab": {
      "provenance": [],
      "include_colab_link": true
    },
    "kernelspec": {
      "name": "python3",
      "display_name": "Python 3"
    },
    "language_info": {
      "name": "python"
    }
  },
  "cells": [
    {
      "cell_type": "markdown",
      "metadata": {
        "id": "view-in-github",
        "colab_type": "text"
      },
      "source": [
        "<a href=\"https://colab.research.google.com/github/JUBURT/JUBURT/blob/main/HW4_Part1_JWallace.ipynb\" target=\"_parent\"><img src=\"https://colab.research.google.com/assets/colab-badge.svg\" alt=\"Open In Colab\"/></a>"
      ]
    },
    {
      "cell_type": "code",
      "source": [
        "import pandas as pd\n",
        "import matplotlib.pyplot as plt\n"
      ],
      "metadata": {
        "id": "8yTvQ3uoVIyD"
      },
      "execution_count": 1,
      "outputs": []
    },
    {
      "cell_type": "code",
      "source": [
        "from google.colab import drive\n",
        "drive.mount('/content/drive')"
      ],
      "metadata": {
        "id": "y9IBRgI54qKH",
        "colab": {
          "base_uri": "https://localhost:8080/"
        },
        "outputId": "588d8ba0-f891-4c27-82ba-412e964164d1"
      },
      "execution_count": 2,
      "outputs": [
        {
          "output_type": "stream",
          "name": "stdout",
          "text": [
            "Mounted at /content/drive\n"
          ]
        }
      ]
    },
    {
      "cell_type": "markdown",
      "source": [
        "**Q1** Please use Pandas to read olympic_medals.csv and use parallel_categories function from plotly.express to visualize proportions of medal type for each gender from since year 2000. Please see the example in the Python notebook we walked through in the class."
      ],
      "metadata": {
        "id": "Ahlyu2CmZ7qA"
      }
    },
    {
      "cell_type": "code",
      "source": [
        "#please use this cell to read and select your data\n",
        "import pandas as pd\n",
        "import plotly.express as px\n",
        "\n",
        "df = pd.read_csv(\"/content/drive/MyDrive/DATA/olympic_medals.csv\")\n",
        "df.head()\n",
        "\n",
        "\n",
        "\n",
        " "
      ],
      "metadata": {
        "colab": {
          "base_uri": "https://localhost:8080/",
          "height": 206
        },
        "id": "9bQlTm4QVPdJ",
        "outputId": "2610718f-e027-4da1-85b5-eda4972168ed"
      },
      "execution_count": 17,
      "outputs": [
        {
          "output_type": "execute_result",
          "data": {
            "text/plain": [
              "  Gender       Event Location  Year Medal                   Name Nationality  \\\n",
              "0      M  10000M Men      Rio  2016     G          Mohamed FARAH         GBR   \n",
              "1      M  10000M Men      Rio  2016     S  Paul Kipngetich TANUI         KEN   \n",
              "2      M  10000M Men      Rio  2016     B           Tamirat TOLA         ETH   \n",
              "3      M  10000M Men  Beijing  2008     G        Kenenisa BEKELE         ETH   \n",
              "4      M  10000M Men  Beijing  2008     S         Sileshi SIHINE         ETH   \n",
              "\n",
              "     Result  \n",
              "0  25:05.17  \n",
              "1  27:05.64  \n",
              "2  27:06.26  \n",
              "3  27:01.17  \n",
              "4  27:02.77  "
            ],
            "text/html": [
              "\n",
              "  <div id=\"df-c7da36fc-a3bb-4964-b016-33d7f83a14ed\">\n",
              "    <div class=\"colab-df-container\">\n",
              "      <div>\n",
              "<style scoped>\n",
              "    .dataframe tbody tr th:only-of-type {\n",
              "        vertical-align: middle;\n",
              "    }\n",
              "\n",
              "    .dataframe tbody tr th {\n",
              "        vertical-align: top;\n",
              "    }\n",
              "\n",
              "    .dataframe thead th {\n",
              "        text-align: right;\n",
              "    }\n",
              "</style>\n",
              "<table border=\"1\" class=\"dataframe\">\n",
              "  <thead>\n",
              "    <tr style=\"text-align: right;\">\n",
              "      <th></th>\n",
              "      <th>Gender</th>\n",
              "      <th>Event</th>\n",
              "      <th>Location</th>\n",
              "      <th>Year</th>\n",
              "      <th>Medal</th>\n",
              "      <th>Name</th>\n",
              "      <th>Nationality</th>\n",
              "      <th>Result</th>\n",
              "    </tr>\n",
              "  </thead>\n",
              "  <tbody>\n",
              "    <tr>\n",
              "      <th>0</th>\n",
              "      <td>M</td>\n",
              "      <td>10000M Men</td>\n",
              "      <td>Rio</td>\n",
              "      <td>2016</td>\n",
              "      <td>G</td>\n",
              "      <td>Mohamed FARAH</td>\n",
              "      <td>GBR</td>\n",
              "      <td>25:05.17</td>\n",
              "    </tr>\n",
              "    <tr>\n",
              "      <th>1</th>\n",
              "      <td>M</td>\n",
              "      <td>10000M Men</td>\n",
              "      <td>Rio</td>\n",
              "      <td>2016</td>\n",
              "      <td>S</td>\n",
              "      <td>Paul Kipngetich TANUI</td>\n",
              "      <td>KEN</td>\n",
              "      <td>27:05.64</td>\n",
              "    </tr>\n",
              "    <tr>\n",
              "      <th>2</th>\n",
              "      <td>M</td>\n",
              "      <td>10000M Men</td>\n",
              "      <td>Rio</td>\n",
              "      <td>2016</td>\n",
              "      <td>B</td>\n",
              "      <td>Tamirat TOLA</td>\n",
              "      <td>ETH</td>\n",
              "      <td>27:06.26</td>\n",
              "    </tr>\n",
              "    <tr>\n",
              "      <th>3</th>\n",
              "      <td>M</td>\n",
              "      <td>10000M Men</td>\n",
              "      <td>Beijing</td>\n",
              "      <td>2008</td>\n",
              "      <td>G</td>\n",
              "      <td>Kenenisa BEKELE</td>\n",
              "      <td>ETH</td>\n",
              "      <td>27:01.17</td>\n",
              "    </tr>\n",
              "    <tr>\n",
              "      <th>4</th>\n",
              "      <td>M</td>\n",
              "      <td>10000M Men</td>\n",
              "      <td>Beijing</td>\n",
              "      <td>2008</td>\n",
              "      <td>S</td>\n",
              "      <td>Sileshi SIHINE</td>\n",
              "      <td>ETH</td>\n",
              "      <td>27:02.77</td>\n",
              "    </tr>\n",
              "  </tbody>\n",
              "</table>\n",
              "</div>\n",
              "      <button class=\"colab-df-convert\" onclick=\"convertToInteractive('df-c7da36fc-a3bb-4964-b016-33d7f83a14ed')\"\n",
              "              title=\"Convert this dataframe to an interactive table.\"\n",
              "              style=\"display:none;\">\n",
              "        \n",
              "  <svg xmlns=\"http://www.w3.org/2000/svg\" height=\"24px\"viewBox=\"0 0 24 24\"\n",
              "       width=\"24px\">\n",
              "    <path d=\"M0 0h24v24H0V0z\" fill=\"none\"/>\n",
              "    <path d=\"M18.56 5.44l.94 2.06.94-2.06 2.06-.94-2.06-.94-.94-2.06-.94 2.06-2.06.94zm-11 1L8.5 8.5l.94-2.06 2.06-.94-2.06-.94L8.5 2.5l-.94 2.06-2.06.94zm10 10l.94 2.06.94-2.06 2.06-.94-2.06-.94-.94-2.06-.94 2.06-2.06.94z\"/><path d=\"M17.41 7.96l-1.37-1.37c-.4-.4-.92-.59-1.43-.59-.52 0-1.04.2-1.43.59L10.3 9.45l-7.72 7.72c-.78.78-.78 2.05 0 2.83L4 21.41c.39.39.9.59 1.41.59.51 0 1.02-.2 1.41-.59l7.78-7.78 2.81-2.81c.8-.78.8-2.07 0-2.86zM5.41 20L4 18.59l7.72-7.72 1.47 1.35L5.41 20z\"/>\n",
              "  </svg>\n",
              "      </button>\n",
              "      \n",
              "  <style>\n",
              "    .colab-df-container {\n",
              "      display:flex;\n",
              "      flex-wrap:wrap;\n",
              "      gap: 12px;\n",
              "    }\n",
              "\n",
              "    .colab-df-convert {\n",
              "      background-color: #E8F0FE;\n",
              "      border: none;\n",
              "      border-radius: 50%;\n",
              "      cursor: pointer;\n",
              "      display: none;\n",
              "      fill: #1967D2;\n",
              "      height: 32px;\n",
              "      padding: 0 0 0 0;\n",
              "      width: 32px;\n",
              "    }\n",
              "\n",
              "    .colab-df-convert:hover {\n",
              "      background-color: #E2EBFA;\n",
              "      box-shadow: 0px 1px 2px rgba(60, 64, 67, 0.3), 0px 1px 3px 1px rgba(60, 64, 67, 0.15);\n",
              "      fill: #174EA6;\n",
              "    }\n",
              "\n",
              "    [theme=dark] .colab-df-convert {\n",
              "      background-color: #3B4455;\n",
              "      fill: #D2E3FC;\n",
              "    }\n",
              "\n",
              "    [theme=dark] .colab-df-convert:hover {\n",
              "      background-color: #434B5C;\n",
              "      box-shadow: 0px 1px 3px 1px rgba(0, 0, 0, 0.15);\n",
              "      filter: drop-shadow(0px 1px 2px rgba(0, 0, 0, 0.3));\n",
              "      fill: #FFFFFF;\n",
              "    }\n",
              "  </style>\n",
              "\n",
              "      <script>\n",
              "        const buttonEl =\n",
              "          document.querySelector('#df-c7da36fc-a3bb-4964-b016-33d7f83a14ed button.colab-df-convert');\n",
              "        buttonEl.style.display =\n",
              "          google.colab.kernel.accessAllowed ? 'block' : 'none';\n",
              "\n",
              "        async function convertToInteractive(key) {\n",
              "          const element = document.querySelector('#df-c7da36fc-a3bb-4964-b016-33d7f83a14ed');\n",
              "          const dataTable =\n",
              "            await google.colab.kernel.invokeFunction('convertToInteractive',\n",
              "                                                     [key], {});\n",
              "          if (!dataTable) return;\n",
              "\n",
              "          const docLinkHtml = 'Like what you see? Visit the ' +\n",
              "            '<a target=\"_blank\" href=https://colab.research.google.com/notebooks/data_table.ipynb>data table notebook</a>'\n",
              "            + ' to learn more about interactive tables.';\n",
              "          element.innerHTML = '';\n",
              "          dataTable['output_type'] = 'display_data';\n",
              "          await google.colab.output.renderOutput(dataTable, element);\n",
              "          const docLink = document.createElement('div');\n",
              "          docLink.innerHTML = docLinkHtml;\n",
              "          element.appendChild(docLink);\n",
              "        }\n",
              "      </script>\n",
              "    </div>\n",
              "  </div>\n",
              "  "
            ]
          },
          "metadata": {},
          "execution_count": 17
        }
      ]
    },
    {
      "cell_type": "code",
      "execution_count": 33,
      "metadata": {
        "colab": {
          "base_uri": "https://localhost:8080/",
          "height": 542
        },
        "id": "IUJMNrQbVBre",
        "outputId": "5823c850-0415-4eaf-fbb5-fdf79272b6e6"
      },
      "outputs": [
        {
          "output_type": "display_data",
          "data": {
            "text/html": [
              "<html>\n",
              "<head><meta charset=\"utf-8\" /></head>\n",
              "<body>\n",
              "    <div>            <script src=\"https://cdnjs.cloudflare.com/ajax/libs/mathjax/2.7.5/MathJax.js?config=TeX-AMS-MML_SVG\"></script><script type=\"text/javascript\">if (window.MathJax && window.MathJax.Hub && window.MathJax.Hub.Config) {window.MathJax.Hub.Config({SVG: {font: \"STIX-Web\"}});}</script>                <script type=\"text/javascript\">window.PlotlyConfig = {MathJaxConfig: 'local'};</script>\n",
              "        <script src=\"https://cdn.plot.ly/plotly-2.18.2.min.js\"></script>                <div id=\"b0b648a8-e81d-44bb-aabf-8a940852af8f\" class=\"plotly-graph-div\" style=\"height:525px; width:100%;\"></div>            <script type=\"text/javascript\">                                    window.PLOTLYENV=window.PLOTLYENV || {};                                    if (document.getElementById(\"b0b648a8-e81d-44bb-aabf-8a940852af8f\")) {                    Plotly.newPlot(                        \"b0b648a8-e81d-44bb-aabf-8a940852af8f\",                        [{\"dimensions\":[{\"label\":\"Gender\",\"values\":[\"M\",\"M\",\"M\",\"M\",\"M\",\"M\",\"M\",\"M\",\"M\",\"M\",\"M\",\"M\",\"M\",\"M\",\"M\",\"M\",\"M\",\"M\",\"M\",\"M\",\"M\",\"M\",\"M\",\"M\",\"M\",\"M\",\"M\",\"M\",\"M\",\"M\",\"M\",\"M\",\"M\",\"M\",\"M\",\"M\",\"M\",\"M\",\"M\",\"M\",\"M\",\"M\",\"M\",\"M\",\"M\",\"M\",\"M\",\"M\",\"M\",\"M\",\"M\",\"M\",\"M\",\"M\",\"M\",\"M\",\"M\",\"M\",\"M\",\"M\",\"M\",\"M\",\"M\",\"M\",\"M\",\"M\",\"M\",\"M\",\"M\",\"M\",\"M\",\"M\",\"M\",\"M\",\"M\",\"M\",\"M\",\"M\",\"M\",\"M\",\"M\",\"M\",\"M\",\"M\",\"M\",\"M\",\"M\",\"M\",\"M\",\"M\",\"M\",\"M\",\"M\",\"M\",\"M\",\"M\",\"M\",\"M\",\"M\",\"M\",\"M\",\"M\",\"M\",\"M\",\"M\",\"M\",\"M\",\"M\",\"M\",\"M\",\"M\",\"M\",\"M\",\"M\",\"M\",\"M\",\"M\",\"M\",\"M\",\"M\",\"M\",\"M\",\"M\",\"M\",\"M\",\"M\",\"M\",\"M\",\"M\",\"M\",\"M\",\"M\",\"M\",\"M\",\"M\",\"M\",\"M\",\"M\",\"M\",\"M\",\"M\",\"M\",\"M\",\"M\",\"M\",\"M\",\"M\",\"M\",\"M\",\"M\",\"M\",\"M\",\"M\",\"M\",\"M\",\"M\",\"M\",\"M\",\"M\",\"M\",\"M\",\"M\",\"M\",\"M\",\"M\",\"M\",\"M\",\"M\",\"M\",\"M\",\"M\",\"M\",\"M\",\"M\",\"M\",\"M\",\"M\",\"M\",\"M\",\"M\",\"M\",\"M\",\"M\",\"M\",\"M\",\"M\",\"M\",\"M\",\"M\",\"M\",\"M\",\"M\",\"M\",\"M\",\"M\",\"M\",\"M\",\"M\",\"M\",\"M\",\"M\",\"M\",\"M\",\"M\",\"M\",\"M\",\"M\",\"M\",\"M\",\"M\",\"M\",\"M\",\"M\",\"M\",\"M\",\"M\",\"M\",\"M\",\"M\",\"M\",\"M\",\"M\",\"M\",\"M\",\"M\",\"M\",\"M\",\"M\",\"M\",\"M\",\"M\",\"M\",\"M\",\"M\",\"M\",\"M\",\"M\",\"M\",\"M\",\"M\",\"M\",\"M\",\"M\",\"M\",\"M\",\"M\",\"M\",\"M\",\"M\",\"M\",\"M\",\"M\",\"M\",\"M\",\"M\",\"M\",\"M\",\"M\",\"M\",\"M\",\"M\",\"M\",\"M\",\"M\",\"M\",\"M\",\"M\",\"M\",\"M\",\"M\",\"M\",\"M\",\"M\",\"M\",\"M\",\"M\",\"M\",\"M\",\"M\",\"M\",\"M\",\"M\",\"M\",\"M\",\"M\",\"M\",\"M\",\"M\",\"M\",\"M\",\"M\",\"M\",\"M\",\"M\",\"M\",\"M\",\"M\",\"M\",\"M\",\"M\",\"M\",\"M\",\"M\",\"M\",\"M\",\"M\",\"M\",\"M\",\"M\",\"M\",\"M\",\"M\",\"M\",\"M\",\"M\",\"M\",\"M\",\"M\",\"M\",\"M\",\"M\",\"M\",\"M\",\"M\",\"M\",\"M\",\"M\",\"M\",\"M\",\"M\",\"M\",\"M\",\"M\",\"M\",\"M\",\"M\",\"M\",\"M\",\"M\",\"M\",\"M\",\"M\",\"M\",\"M\",\"M\",\"M\",\"M\",\"M\",\"M\",\"M\",\"M\",\"M\",\"M\",\"M\",\"M\",\"M\",\"M\",\"W\",\"W\",\"W\",\"W\",\"W\",\"W\",\"W\",\"W\",\"W\",\"W\",\"W\",\"W\",\"W\",\"W\",\"W\",\"W\",\"W\",\"W\",\"W\",\"W\",\"W\",\"W\",\"W\",\"W\",\"W\",\"W\",\"W\",\"W\",\"W\",\"W\",\"W\",\"W\",\"W\",\"W\",\"W\",\"W\",\"W\",\"W\",\"W\",\"W\",\"W\",\"W\",\"W\",\"W\",\"W\",\"W\",\"W\",\"W\",\"W\",\"W\",\"W\",\"W\",\"W\",\"W\",\"W\",\"W\",\"W\",\"W\",\"W\",\"W\",\"W\",\"W\",\"W\",\"W\",\"W\",\"W\",\"W\",\"W\",\"W\",\"W\",\"W\",\"W\",\"W\",\"W\",\"W\",\"W\",\"W\",\"W\",\"W\",\"W\",\"W\",\"W\",\"W\",\"W\",\"W\",\"W\",\"W\",\"W\",\"W\",\"W\",\"W\",\"W\",\"W\",\"W\",\"W\",\"W\",\"W\",\"W\",\"W\",\"W\",\"W\",\"W\",\"W\",\"W\",\"W\",\"W\",\"W\",\"W\",\"W\",\"W\",\"W\",\"W\",\"W\",\"W\",\"W\",\"W\",\"W\",\"W\",\"W\",\"W\",\"W\",\"W\",\"W\",\"W\",\"W\",\"W\",\"W\",\"W\",\"W\",\"W\",\"W\",\"W\",\"W\",\"W\",\"W\",\"W\",\"W\",\"W\",\"W\",\"W\",\"W\",\"W\",\"W\",\"W\",\"W\",\"W\",\"W\",\"W\",\"W\",\"W\",\"W\",\"W\",\"W\",\"W\",\"W\",\"W\",\"W\",\"W\",\"W\",\"W\",\"W\",\"W\",\"W\",\"W\",\"W\",\"W\",\"W\",\"W\",\"W\",\"W\",\"W\",\"W\",\"W\",\"W\",\"W\",\"W\",\"W\",\"W\",\"W\",\"W\",\"W\",\"W\",\"W\",\"W\",\"W\",\"W\",\"W\",\"W\",\"W\",\"W\",\"W\",\"W\",\"W\",\"W\",\"W\",\"W\",\"W\",\"W\",\"W\",\"W\",\"W\",\"W\",\"W\",\"W\",\"W\",\"W\",\"W\",\"W\",\"W\",\"W\",\"W\",\"W\",\"W\",\"W\",\"W\",\"W\",\"W\",\"W\",\"W\",\"W\",\"W\",\"W\",\"W\",\"W\",\"W\",\"W\",\"W\",\"W\",\"W\",\"W\",\"W\",\"W\",\"W\",\"W\",\"W\",\"W\",\"W\",\"W\",\"W\",\"W\",\"W\",\"W\",\"W\",\"W\",\"W\",\"W\",\"W\",\"W\",\"W\",\"W\",\"W\",\"W\",\"W\",\"W\",\"W\",\"W\",\"W\",\"W\",\"W\",\"W\",\"W\",\"W\",\"W\",\"W\",\"W\",\"W\",\"W\",\"W\",\"W\",\"W\",\"W\",\"W\",\"W\",\"W\",\"W\",\"W\",\"W\",\"W\",\"W\",\"W\",\"W\",\"W\",\"W\",\"W\",\"W\",\"W\",\"W\",\"W\",\"W\",\"W\",\"W\",\"W\",\"W\",\"W\",\"W\",\"W\",\"W\",\"W\",\"W\",\"W\",\"W\",\"W\",\"W\",\"W\",\"W\",\"W\",\"W\",\"W\",\"W\",\"W\",\"W\",\"W\",\"W\",\"W\",\"W\",\"W\",\"W\",\"W\",\"W\",\"W\",\"W\",\"W\",\"W\",\"W\",\"W\",\"W\"]},{\"label\":\"Medal\",\"values\":[\"G\",\"S\",\"B\",\"G\",\"S\",\"B\",\"G\",\"S\",\"B\",\"G\",\"S\",\"B\",\"G\",\"S\",\"B\",\"G\",\"S\",\"B\",\"G\",\"S\",\"B\",\"G\",\"S\",\"B\",\"G\",\"S\",\"B\",\"G\",\"S\",\"B\",\"G\",\"S\",\"B\",\"G\",\"S\",\"B\",\"G\",\"S\",\"B\",\"G\",\"S\",\"B\",\"G\",\"S\",\"B\",\"G\",\"S\",\"B\",\"G\",\"S\",\"B\",\"G\",\"S\",\"B\",\"G\",\"S\",\"B\",\"G\",\"S\",\"B\",\"G\",\"S\",\"B\",\"G\",\"S\",\"B\",\"G\",\"S\",\"B\",\"G\",\"S\",\"B\",\"G\",\"S\",\"B\",\"G\",\"S\",\"B\",\"G\",\"S\",\"B\",\"G\",\"S\",\"B\",\"G\",\"S\",\"B\",\"G\",\"S\",\"B\",\"G\",\"S\",\"B\",\"G\",\"S\",\"B\",\"G\",\"S\",\"B\",\"G\",\"S\",\"B\",\"G\",\"S\",\"B\",\"G\",\"S\",\"B\",\"G\",\"S\",\"B\",\"G\",\"S\",\"B\",\"G\",\"S\",\"B\",\"G\",\"S\",\"B\",\"G\",\"S\",\"B\",\"G\",\"S\",\"B\",\"G\",\"S\",\"B\",\"G\",\"S\",\"B\",\"G\",\"S\",\"B\",\"G\",\"S\",\"B\",\"S\",\"B\",\"G\",\"S\",\"B\",\"G\",\"S\",\"B\",\"G\",\"S\",\"B\",\"G\",\"S\",\"B\",\"G\",\"S\",\"G\",\"S\",\"B\",\"G\",\"S\",\"B\",\"G\",\"S\",\"B\",\"G\",\"S\",\"B\",\"G\",\"S\",\"B\",\"G\",\"S\",\"B\",\"G\",\"S\",\"B\",\"G\",\"S\",\"B\",\"G\",\"S\",\"B\",\"G\",\"S\",\"B\",\"G\",\"S\",\"B\",\"G\",\"S\",\"B\",\"G\",\"S\",\"B\",\"G\",\"S\",\"B\",\"G\",\"S\",\"B\",\"G\",\"S\",\"B\",\"G\",\"S\",\"B\",\"G\",\"S\",\"B\",\"G\",\"S\",\"B\",\"G\",\"S\",\"B\",\"G\",\"S\",\"B\",\"G\",\"S\",\"B\",\"G\",\"S\",\"B\",\"G\",\"S\",\"B\",\"G\",\"S\",\"B\",\"G\",\"S\",\"B\",\"G\",\"S\",\"B\",\"G\",\"S\",\"B\",\"G\",\"S\",\"B\",\"G\",\"S\",\"B\",\"G\",\"S\",\"B\",\"G\",\"S\",\"B\",\"G\",\"B\",\"G\",\"S\",\"B\",\"G\",\"S\",\"B\",\"G\",\"S\",\"B\",\"G\",\"S\",\"B\",\"B\",\"B\",\"G\",\"S\",\"B\",\"G\",\"S\",\"B\",\"G\",\"S\",\"B\",\"G\",\"S\",\"B\",\"G\",\"B\",\"G\",\"S\",\"B\",\"G\",\"S\",\"B\",\"G\",\"S\",\"B\",\"G\",\"S\",\"B\",\"G\",\"S\",\"B\",\"G\",\"S\",\"B\",\"G\",\"S\",\"B\",\"G\",\"S\",\"B\",\"G\",\"S\",\"B\",\"G\",\"S\",\"B\",\"G\",\"S\",\"B\",\"G\",\"S\",\"B\",\"G\",\"S\",\"G\",\"S\",\"B\",\"G\",\"S\",\"B\",\"G\",\"S\",\"B\",\"G\",\"S\",\"B\",\"G\",\"S\",\"B\",\"G\",\"S\",\"B\",\"G\",\"S\",\"B\",\"G\",\"S\",\"B\",\"G\",\"S\",\"B\",\"G\",\"S\",\"B\",\"G\",\"S\",\"B\",\"G\",\"S\",\"B\",\"G\",\"S\",\"B\",\"G\",\"S\",\"B\",\"G\",\"S\",\"B\",\"G\",\"S\",\"B\",\"G\",\"S\",\"B\",\"G\",\"S\",\"B\",\"G\",\"S\",\"B\",\"G\",\"S\",\"B\",\"G\",\"S\",\"B\",\"G\",\"S\",\"B\",\"G\",\"S\",\"B\",\"G\",\"S\",\"B\",\"G\",\"S\",\"S\",\"S\",\"S\",\"B\",\"G\",\"S\",\"B\",\"G\",\"S\",\"B\",\"G\",\"S\",\"B\",\"G\",\"S\",\"B\",\"G\",\"S\",\"B\",\"S\",\"B\",\"G\",\"S\",\"B\",\"G\",\"S\",\"B\",\"G\",\"S\",\"B\",\"G\",\"S\",\"B\",\"G\",\"S\",\"B\",\"G\",\"S\",\"B\",\"G\",\"S\",\"B\",\"G\",\"S\",\"B\",\"G\",\"G\",\"S\",\"B\",\"G\",\"B\",\"G\",\"S\",\"B\",\"G\",\"S\",\"B\",\"G\",\"S\",\"G\",\"S\",\"B\",\"G\",\"S\",\"B\",\"G\",\"S\",\"B\",\"G\",\"S\",\"B\",\"G\",\"S\",\"B\",\"G\",\"S\",\"B\",\"G\",\"S\",\"B\",\"G\",\"S\",\"B\",\"G\",\"S\",\"B\",\"G\",\"S\",\"B\",\"G\",\"S\",\"B\",\"G\",\"S\",\"B\",\"G\",\"S\",\"B\",\"G\",\"S\",\"B\",\"G\",\"S\",\"B\",\"G\",\"S\",\"B\",\"G\",\"S\",\"B\",\"G\",\"B\",\"G\",\"S\",\"B\",\"G\",\"S\",\"B\",\"G\",\"S\",\"B\",\"G\",\"S\",\"B\",\"G\",\"S\",\"B\",\"G\",\"S\",\"B\",\"G\",\"S\",\"B\",\"G\",\"S\",\"B\",\"G\",\"S\",\"B\",\"G\",\"S\",\"B\",\"G\",\"S\",\"B\",\"G\",\"S\",\"B\",\"G\",\"S\",\"B\",\"G\",\"S\",\"B\",\"G\",\"B\",\"G\",\"S\",\"B\",\"G\",\"S\",\"B\",\"G\",\"S\",\"B\",\"G\",\"S\",\"B\",\"G\",\"S\",\"B\",\"G\",\"S\",\"B\",\"S\",\"B\",\"G\",\"S\",\"B\",\"G\",\"S\",\"B\",\"G\",\"S\",\"B\",\"G\",\"S\",\"B\",\"G\",\"S\",\"B\",\"G\",\"S\",\"B\",\"G\",\"S\",\"B\",\"G\",\"S\",\"G\",\"S\",\"B\",\"B\",\"G\",\"S\",\"B\",\"G\",\"S\",\"B\",\"G\",\"S\",\"B\",\"G\",\"B\",\"G\",\"S\",\"B\",\"G\",\"S\",\"B\",\"G\",\"S\",\"B\",\"G\",\"S\",\"B\",\"G\",\"B\",\"G\",\"S\",\"B\",\"G\",\"S\",\"B\",\"G\",\"S\",\"B\",\"G\",\"S\",\"B\",\"G\",\"S\",\"B\",\"G\",\"S\",\"B\",\"G\",\"S\",\"B\",\"G\",\"S\",\"B\",\"G\",\"S\",\"B\",\"G\",\"S\",\"B\",\"G\",\"S\",\"B\",\"G\",\"S\",\"B\",\"G\",\"S\",\"B\",\"G\",\"S\",\"B\",\"G\",\"G\",\"S\",\"B\",\"G\",\"B\",\"G\",\"S\",\"G\",\"S\",\"B\",\"G\",\"G\",\"S\",\"B\",\"G\",\"S\",\"B\",\"G\",\"S\",\"B\"]}],\"domain\":{\"x\":[0.0,1.0],\"y\":[0.0,1.0]},\"line\":{\"color\":[2016,2016,2016,2008,2008,2008,2000,2000,2000,2012,2012,2012,2004,2004,2004,2016,2016,2016,2008,2008,2008,2000,2000,2000,2012,2012,2012,2004,2004,2004,2016,2016,2016,2008,2008,2008,2000,2000,2000,2012,2012,2012,2004,2004,2004,2016,2016,2016,2008,2008,2008,2000,2000,2000,2012,2012,2012,2004,2004,2004,2016,2016,2016,2008,2008,2008,2000,2000,2000,2012,2012,2012,2004,2004,2004,2016,2016,2016,2008,2008,2008,2000,2000,2000,2012,2012,2012,2004,2004,2004,2016,2016,2016,2008,2008,2008,2000,2000,2000,2012,2012,2012,2004,2004,2004,2016,2016,2016,2008,2008,2008,2000,2000,2000,2012,2012,2012,2004,2004,2004,2016,2016,2016,2008,2008,2008,2000,2000,2000,2012,2012,2012,2004,2004,2004,2016,2016,2016,2008,2008,2000,2000,2000,2012,2012,2012,2004,2004,2004,2016,2016,2016,2008,2008,2000,2000,2000,2012,2012,2012,2004,2004,2004,2016,2016,2016,2008,2008,2008,2000,2000,2000,2012,2012,2012,2004,2004,2004,2016,2016,2016,2008,2008,2008,2000,2000,2000,2012,2012,2012,2004,2004,2004,2016,2016,2016,2008,2008,2008,2000,2000,2000,2012,2012,2012,2004,2004,2004,2016,2016,2016,2008,2008,2008,2000,2000,2000,2012,2012,2012,2004,2004,2004,2016,2016,2016,2008,2008,2008,2000,2000,2000,2012,2012,2012,2004,2004,2004,2016,2016,2016,2008,2008,2008,2000,2000,2000,2012,2012,2012,2004,2004,2016,2016,2016,2008,2008,2008,2000,2000,2000,2012,2012,2012,2012,2012,2004,2004,2004,2016,2016,2016,2008,2008,2008,2000,2000,2000,2012,2012,2004,2004,2004,2016,2016,2016,2008,2008,2008,2000,2000,2000,2012,2012,2012,2004,2004,2004,2016,2016,2016,2008,2008,2008,2000,2000,2000,2012,2012,2012,2004,2004,2004,2016,2016,2016,2008,2008,2000,2000,2000,2012,2012,2012,2004,2004,2004,2016,2016,2016,2008,2008,2008,2000,2000,2000,2012,2012,2012,2004,2004,2004,2016,2016,2016,2008,2008,2008,2000,2000,2000,2012,2012,2012,2004,2004,2004,2016,2016,2016,2008,2008,2008,2000,2000,2000,2012,2012,2012,2004,2004,2004,2016,2016,2016,2008,2008,2008,2000,2000,2000,2012,2012,2012,2004,2004,2004,2016,2016,2016,2008,2008,2008,2000,2000,2000,2012,2012,2012,2004,2004,2004,2016,2016,2016,2008,2008,2008,2000,2000,2000,2012,2012,2004,2004,2004,2016,2016,2016,2008,2008,2008,2000,2000,2000,2012,2012,2012,2004,2004,2004,2016,2016,2016,2008,2008,2008,2000,2000,2000,2000,2012,2012,2004,2004,2004,2016,2016,2016,2008,2008,2012,2012,2012,2016,2016,2016,2008,2008,2008,2000,2000,2000,2012,2012,2012,2004,2004,2004,2016,2016,2016,2008,2008,2008,2000,2000,2000,2012,2012,2012,2004,2004,2004,2016,2016,2016,2008,2008,2008,2000,2000,2000,2012,2012,2012,2004,2004,2004,2016,2016,2016,2008,2008,2000,2000,2000,2012,2012,2012,2004,2004,2004,2016,2016,2016,2008,2008,2008,2000,2000,2000,2012,2012,2012,2004,2004,2004,2016,2016,2016,2008,2008,2008,2000,2000,2000,2012,2012,2012,2004,2004,2004,2016,2016,2016,2008,2008,2000,2000,2000,2012,2012,2012,2004,2004,2004,2016,2016,2016,2008,2008,2008,2000,2000,2000,2012,2012,2004,2004,2004,2016,2016,2016,2008,2008,2008,2000,2000,2000,2012,2012,2012,2004,2004,2004,2016,2016,2016,2008,2008,2000,2000,2000,2000,2012,2012,2012,2004,2004,2004,2016,2016,2016,2008,2008,2000,2000,2000,2012,2012,2012,2004,2004,2004,2016,2016,2016,2008,2008,2000,2000,2000,2012,2012,2012,2004,2004,2004,2016,2016,2016,2008,2008,2008,2000,2000,2000,2012,2012,2012,2004,2004,2004,2016,2016,2016,2008,2008,2008,2000,2000,2000,2012,2012,2012,2004,2004,2004,2016,2016,2016,2008,2000,2000,2000,2012,2012,2004,2004,2016,2016,2016,2008,2000,2000,2000,2012,2012,2012,2004,2004,2004],\"coloraxis\":\"coloraxis\"},\"name\":\"\",\"type\":\"parcats\"}],                        {\"template\":{\"data\":{\"histogram2dcontour\":[{\"type\":\"histogram2dcontour\",\"colorbar\":{\"outlinewidth\":0,\"ticks\":\"\"},\"colorscale\":[[0.0,\"#0d0887\"],[0.1111111111111111,\"#46039f\"],[0.2222222222222222,\"#7201a8\"],[0.3333333333333333,\"#9c179e\"],[0.4444444444444444,\"#bd3786\"],[0.5555555555555556,\"#d8576b\"],[0.6666666666666666,\"#ed7953\"],[0.7777777777777778,\"#fb9f3a\"],[0.8888888888888888,\"#fdca26\"],[1.0,\"#f0f921\"]]}],\"choropleth\":[{\"type\":\"choropleth\",\"colorbar\":{\"outlinewidth\":0,\"ticks\":\"\"}}],\"histogram2d\":[{\"type\":\"histogram2d\",\"colorbar\":{\"outlinewidth\":0,\"ticks\":\"\"},\"colorscale\":[[0.0,\"#0d0887\"],[0.1111111111111111,\"#46039f\"],[0.2222222222222222,\"#7201a8\"],[0.3333333333333333,\"#9c179e\"],[0.4444444444444444,\"#bd3786\"],[0.5555555555555556,\"#d8576b\"],[0.6666666666666666,\"#ed7953\"],[0.7777777777777778,\"#fb9f3a\"],[0.8888888888888888,\"#fdca26\"],[1.0,\"#f0f921\"]]}],\"heatmap\":[{\"type\":\"heatmap\",\"colorbar\":{\"outlinewidth\":0,\"ticks\":\"\"},\"colorscale\":[[0.0,\"#0d0887\"],[0.1111111111111111,\"#46039f\"],[0.2222222222222222,\"#7201a8\"],[0.3333333333333333,\"#9c179e\"],[0.4444444444444444,\"#bd3786\"],[0.5555555555555556,\"#d8576b\"],[0.6666666666666666,\"#ed7953\"],[0.7777777777777778,\"#fb9f3a\"],[0.8888888888888888,\"#fdca26\"],[1.0,\"#f0f921\"]]}],\"heatmapgl\":[{\"type\":\"heatmapgl\",\"colorbar\":{\"outlinewidth\":0,\"ticks\":\"\"},\"colorscale\":[[0.0,\"#0d0887\"],[0.1111111111111111,\"#46039f\"],[0.2222222222222222,\"#7201a8\"],[0.3333333333333333,\"#9c179e\"],[0.4444444444444444,\"#bd3786\"],[0.5555555555555556,\"#d8576b\"],[0.6666666666666666,\"#ed7953\"],[0.7777777777777778,\"#fb9f3a\"],[0.8888888888888888,\"#fdca26\"],[1.0,\"#f0f921\"]]}],\"contourcarpet\":[{\"type\":\"contourcarpet\",\"colorbar\":{\"outlinewidth\":0,\"ticks\":\"\"}}],\"contour\":[{\"type\":\"contour\",\"colorbar\":{\"outlinewidth\":0,\"ticks\":\"\"},\"colorscale\":[[0.0,\"#0d0887\"],[0.1111111111111111,\"#46039f\"],[0.2222222222222222,\"#7201a8\"],[0.3333333333333333,\"#9c179e\"],[0.4444444444444444,\"#bd3786\"],[0.5555555555555556,\"#d8576b\"],[0.6666666666666666,\"#ed7953\"],[0.7777777777777778,\"#fb9f3a\"],[0.8888888888888888,\"#fdca26\"],[1.0,\"#f0f921\"]]}],\"surface\":[{\"type\":\"surface\",\"colorbar\":{\"outlinewidth\":0,\"ticks\":\"\"},\"colorscale\":[[0.0,\"#0d0887\"],[0.1111111111111111,\"#46039f\"],[0.2222222222222222,\"#7201a8\"],[0.3333333333333333,\"#9c179e\"],[0.4444444444444444,\"#bd3786\"],[0.5555555555555556,\"#d8576b\"],[0.6666666666666666,\"#ed7953\"],[0.7777777777777778,\"#fb9f3a\"],[0.8888888888888888,\"#fdca26\"],[1.0,\"#f0f921\"]]}],\"mesh3d\":[{\"type\":\"mesh3d\",\"colorbar\":{\"outlinewidth\":0,\"ticks\":\"\"}}],\"scatter\":[{\"fillpattern\":{\"fillmode\":\"overlay\",\"size\":10,\"solidity\":0.2},\"type\":\"scatter\"}],\"parcoords\":[{\"type\":\"parcoords\",\"line\":{\"colorbar\":{\"outlinewidth\":0,\"ticks\":\"\"}}}],\"scatterpolargl\":[{\"type\":\"scatterpolargl\",\"marker\":{\"colorbar\":{\"outlinewidth\":0,\"ticks\":\"\"}}}],\"bar\":[{\"error_x\":{\"color\":\"#2a3f5f\"},\"error_y\":{\"color\":\"#2a3f5f\"},\"marker\":{\"line\":{\"color\":\"#E5ECF6\",\"width\":0.5},\"pattern\":{\"fillmode\":\"overlay\",\"size\":10,\"solidity\":0.2}},\"type\":\"bar\"}],\"scattergeo\":[{\"type\":\"scattergeo\",\"marker\":{\"colorbar\":{\"outlinewidth\":0,\"ticks\":\"\"}}}],\"scatterpolar\":[{\"type\":\"scatterpolar\",\"marker\":{\"colorbar\":{\"outlinewidth\":0,\"ticks\":\"\"}}}],\"histogram\":[{\"marker\":{\"pattern\":{\"fillmode\":\"overlay\",\"size\":10,\"solidity\":0.2}},\"type\":\"histogram\"}],\"scattergl\":[{\"type\":\"scattergl\",\"marker\":{\"colorbar\":{\"outlinewidth\":0,\"ticks\":\"\"}}}],\"scatter3d\":[{\"type\":\"scatter3d\",\"line\":{\"colorbar\":{\"outlinewidth\":0,\"ticks\":\"\"}},\"marker\":{\"colorbar\":{\"outlinewidth\":0,\"ticks\":\"\"}}}],\"scattermapbox\":[{\"type\":\"scattermapbox\",\"marker\":{\"colorbar\":{\"outlinewidth\":0,\"ticks\":\"\"}}}],\"scatterternary\":[{\"type\":\"scatterternary\",\"marker\":{\"colorbar\":{\"outlinewidth\":0,\"ticks\":\"\"}}}],\"scattercarpet\":[{\"type\":\"scattercarpet\",\"marker\":{\"colorbar\":{\"outlinewidth\":0,\"ticks\":\"\"}}}],\"carpet\":[{\"aaxis\":{\"endlinecolor\":\"#2a3f5f\",\"gridcolor\":\"white\",\"linecolor\":\"white\",\"minorgridcolor\":\"white\",\"startlinecolor\":\"#2a3f5f\"},\"baxis\":{\"endlinecolor\":\"#2a3f5f\",\"gridcolor\":\"white\",\"linecolor\":\"white\",\"minorgridcolor\":\"white\",\"startlinecolor\":\"#2a3f5f\"},\"type\":\"carpet\"}],\"table\":[{\"cells\":{\"fill\":{\"color\":\"#EBF0F8\"},\"line\":{\"color\":\"white\"}},\"header\":{\"fill\":{\"color\":\"#C8D4E3\"},\"line\":{\"color\":\"white\"}},\"type\":\"table\"}],\"barpolar\":[{\"marker\":{\"line\":{\"color\":\"#E5ECF6\",\"width\":0.5},\"pattern\":{\"fillmode\":\"overlay\",\"size\":10,\"solidity\":0.2}},\"type\":\"barpolar\"}],\"pie\":[{\"automargin\":true,\"type\":\"pie\"}]},\"layout\":{\"autotypenumbers\":\"strict\",\"colorway\":[\"#636efa\",\"#EF553B\",\"#00cc96\",\"#ab63fa\",\"#FFA15A\",\"#19d3f3\",\"#FF6692\",\"#B6E880\",\"#FF97FF\",\"#FECB52\"],\"font\":{\"color\":\"#2a3f5f\"},\"hovermode\":\"closest\",\"hoverlabel\":{\"align\":\"left\"},\"paper_bgcolor\":\"white\",\"plot_bgcolor\":\"#E5ECF6\",\"polar\":{\"bgcolor\":\"#E5ECF6\",\"angularaxis\":{\"gridcolor\":\"white\",\"linecolor\":\"white\",\"ticks\":\"\"},\"radialaxis\":{\"gridcolor\":\"white\",\"linecolor\":\"white\",\"ticks\":\"\"}},\"ternary\":{\"bgcolor\":\"#E5ECF6\",\"aaxis\":{\"gridcolor\":\"white\",\"linecolor\":\"white\",\"ticks\":\"\"},\"baxis\":{\"gridcolor\":\"white\",\"linecolor\":\"white\",\"ticks\":\"\"},\"caxis\":{\"gridcolor\":\"white\",\"linecolor\":\"white\",\"ticks\":\"\"}},\"coloraxis\":{\"colorbar\":{\"outlinewidth\":0,\"ticks\":\"\"}},\"colorscale\":{\"sequential\":[[0.0,\"#0d0887\"],[0.1111111111111111,\"#46039f\"],[0.2222222222222222,\"#7201a8\"],[0.3333333333333333,\"#9c179e\"],[0.4444444444444444,\"#bd3786\"],[0.5555555555555556,\"#d8576b\"],[0.6666666666666666,\"#ed7953\"],[0.7777777777777778,\"#fb9f3a\"],[0.8888888888888888,\"#fdca26\"],[1.0,\"#f0f921\"]],\"sequentialminus\":[[0.0,\"#0d0887\"],[0.1111111111111111,\"#46039f\"],[0.2222222222222222,\"#7201a8\"],[0.3333333333333333,\"#9c179e\"],[0.4444444444444444,\"#bd3786\"],[0.5555555555555556,\"#d8576b\"],[0.6666666666666666,\"#ed7953\"],[0.7777777777777778,\"#fb9f3a\"],[0.8888888888888888,\"#fdca26\"],[1.0,\"#f0f921\"]],\"diverging\":[[0,\"#8e0152\"],[0.1,\"#c51b7d\"],[0.2,\"#de77ae\"],[0.3,\"#f1b6da\"],[0.4,\"#fde0ef\"],[0.5,\"#f7f7f7\"],[0.6,\"#e6f5d0\"],[0.7,\"#b8e186\"],[0.8,\"#7fbc41\"],[0.9,\"#4d9221\"],[1,\"#276419\"]]},\"xaxis\":{\"gridcolor\":\"white\",\"linecolor\":\"white\",\"ticks\":\"\",\"title\":{\"standoff\":15},\"zerolinecolor\":\"white\",\"automargin\":true,\"zerolinewidth\":2},\"yaxis\":{\"gridcolor\":\"white\",\"linecolor\":\"white\",\"ticks\":\"\",\"title\":{\"standoff\":15},\"zerolinecolor\":\"white\",\"automargin\":true,\"zerolinewidth\":2},\"scene\":{\"xaxis\":{\"backgroundcolor\":\"#E5ECF6\",\"gridcolor\":\"white\",\"linecolor\":\"white\",\"showbackground\":true,\"ticks\":\"\",\"zerolinecolor\":\"white\",\"gridwidth\":2},\"yaxis\":{\"backgroundcolor\":\"#E5ECF6\",\"gridcolor\":\"white\",\"linecolor\":\"white\",\"showbackground\":true,\"ticks\":\"\",\"zerolinecolor\":\"white\",\"gridwidth\":2},\"zaxis\":{\"backgroundcolor\":\"#E5ECF6\",\"gridcolor\":\"white\",\"linecolor\":\"white\",\"showbackground\":true,\"ticks\":\"\",\"zerolinecolor\":\"white\",\"gridwidth\":2}},\"shapedefaults\":{\"line\":{\"color\":\"#2a3f5f\"}},\"annotationdefaults\":{\"arrowcolor\":\"#2a3f5f\",\"arrowhead\":0,\"arrowwidth\":1},\"geo\":{\"bgcolor\":\"white\",\"landcolor\":\"#E5ECF6\",\"subunitcolor\":\"white\",\"showland\":true,\"showlakes\":true,\"lakecolor\":\"white\"},\"title\":{\"x\":0.05},\"mapbox\":{\"style\":\"light\"}}},\"coloraxis\":{\"colorbar\":{\"title\":{\"text\":\"Year\"}},\"colorscale\":[[0.0,\"rgb(165,0,38)\"],[0.1,\"rgb(215,48,39)\"],[0.2,\"rgb(244,109,67)\"],[0.3,\"rgb(253,174,97)\"],[0.4,\"rgb(254,224,144)\"],[0.5,\"rgb(255,255,191)\"],[0.6,\"rgb(224,243,248)\"],[0.7,\"rgb(171,217,233)\"],[0.8,\"rgb(116,173,209)\"],[0.9,\"rgb(69,117,180)\"],[1.0,\"rgb(49,54,149)\"]],\"cmid\":2000},\"legend\":{\"tracegroupgap\":0},\"margin\":{\"t\":60}},                        {\"responsive\": true}                    ).then(function(){\n",
              "                            \n",
              "var gd = document.getElementById('b0b648a8-e81d-44bb-aabf-8a940852af8f');\n",
              "var x = new MutationObserver(function (mutations, observer) {{\n",
              "        var display = window.getComputedStyle(gd).display;\n",
              "        if (!display || display === 'none') {{\n",
              "            console.log([gd, 'removed!']);\n",
              "            Plotly.purge(gd);\n",
              "            observer.disconnect();\n",
              "        }}\n",
              "}});\n",
              "\n",
              "// Listen for the removal of the full notebook cells\n",
              "var notebookContainer = gd.closest('#notebook-container');\n",
              "if (notebookContainer) {{\n",
              "    x.observe(notebookContainer, {childList: true});\n",
              "}}\n",
              "\n",
              "// Listen for the clearing of the current output cell\n",
              "var outputEl = gd.closest('.output');\n",
              "if (outputEl) {{\n",
              "    x.observe(outputEl, {childList: true});\n",
              "}}\n",
              "\n",
              "                        })                };                            </script>        </div>\n",
              "</body>\n",
              "</html>"
            ]
          },
          "metadata": {}
        }
      ],
      "source": [
        "import plotly\n",
        "#Please use this cell to create your your figure. Please use Year column to color your graph.\n",
        "\n",
        "import plotly\n",
        "import pandas as pd\n",
        "import plotly.express as px\n",
        "\n",
        "df = pd.read_csv(\"/content/drive/MyDrive/DATA/olympic_medals.csv\")\n",
        "df_2000 = df.loc[df[\"Year\"] >=2000]\n",
        "\n",
        "fig = px.parallel_categories(data_frame=df_2000, dimensions=[\"Gender\", \"Medal\"], color=\"Year\", color_continuous_scale=\"RdYlBu\", color_continuous_midpoint=2000)\n",
        "fig.show()\n",
        "\n",
        "#I can't figure out how to fix the legend and remove the other years?\n"
      ]
    },
    {
      "cell_type": "markdown",
      "source": [
        "**Q2** Please inspect the code below and observe how values are plotted by running it. Then, read the 2016elections.csv from the DATA folder and select rows for AR, MI, CA, and WI. Then, utilize stacked bar plot, to stack vote percentages for Trump, Clinton, Johnson, and Others. Please see 'pct_clinton',\t'pct_trump',\t'pct_johnson',\t'pct_other' columns. Make sure that your x tick labels are those four states above."
      ],
      "metadata": {
        "id": "dqL_OMuiKITK"
      }
    },
    {
      "cell_type": "code",
      "source": [
        "import pandas as pd\n",
        "import seaborn as sns\n",
        "import matplotlib.pyplot as plt\n",
        " \n",
        "# create DataFrame\n",
        "df = pd.DataFrame({'High Temp': [28, 30, 34, 38, 45, 42,\n",
        "                                 38, 35, 32, 28, 25, 21],\n",
        "                   'Low Temp': [22, 26, 30, 32, 41, 38,\n",
        "                                32, 31, 28, 22, 15, 15],\n",
        "                   'Avg Temp': [25, 28, 32, 35, 43, 40,\n",
        "                                35, 33, 30, 25, 20, 18]},\n",
        "                  index=['Jan', 'Feb', 'Mar', 'Apr', 'May',\n",
        "                         'Jun', 'Jul', 'Aug', 'Sep', 'Oct',\n",
        "                         'Nov', 'Dec'])\n",
        " \n",
        " \n",
        "# create stacked bar chart for monthly temperatures\n",
        "df.plot(kind='bar', stacked=True, color=['red', 'skyblue', 'green'])\n",
        " \n",
        "# labels for x & y axis\n",
        "plt.xlabel('Months')\n",
        "plt.ylabel('Temp ranges in Degree Celsius')\n",
        " \n",
        "# title of plot\n",
        "plt.title('Monthly Temperatures in a year')"
      ],
      "metadata": {
        "colab": {
          "base_uri": "https://localhost:8080/",
          "height": 323
        },
        "id": "tLCiMCuPKRbC",
        "outputId": "6b8cbb02-215f-4f09-ce2f-a9ac0f8374b3"
      },
      "execution_count": null,
      "outputs": [
        {
          "output_type": "execute_result",
          "data": {
            "text/plain": [
              "Text(0.5, 1.0, 'Monthly Temperatures in a year')"
            ]
          },
          "metadata": {},
          "execution_count": 1
        },
        {
          "output_type": "display_data",
          "data": {
            "image/png": "[encoded data removed]",
            "text/plain": [
              "<Figure size 432x288 with 1 Axes>"
            ]
          },
          "metadata": {
            "needs_background": "light"
          }
        }
      ]
    },
    {
      "cell_type": "markdown",
      "source": [
        "select rows for AR, MI, CA, and WI. Then, utilize stacked bar plot, to stack vote percentages for Trump, Clinton, Johnson, and Others. Please see 'pct_clinton', 'pct_trump', 'pct_johnson', 'pct_other' columns. Make sure that your x tick labels are those four states above."
      ],
      "metadata": {
        "id": "V1SevvEcNcKb"
      }
    },
    {
      "cell_type": "code",
      "source": [
        "#You can use this cell to write your code. It is doable at most 4 lines of code. \n",
        "\n",
        "import pandas as pd\n",
        "import seaborn as sns\n",
        "import matplotlib.pyplot as plt\n",
        "\n",
        "df = pd.read_csv(\"/content/drive/MyDrive/DATA/2016elections.csv\")\n",
        "df = df.loc[df['st'].isin(['AR', 'MI', 'CA', 'WI'])]\n",
        "df.plot(kind='bar', x='st', y=['pct_trump', 'pct_clinton', 'pct_johnson', 'pct_other'], stacked=True, color=['orange', 'blue', 'yellow', 'green'])\n",
        "plt.xlabel('State')\n",
        "plt.ylabel('Vote Percentage')\n",
        "plt.xticks(range(4), ['AR', 'MI', 'CA', 'WI'])\n",
        "plt.xticks(rotation=0)\n",
        "plt.title('2016 Vote Percentage by Candidate')\n",
        "plt.legend().remove()\n",
        "plt.show()\n",
        " \n",
        "\n"
      ],
      "metadata": {
        "id": "8rMIPtQDK9QI",
        "colab": {
          "base_uri": "https://localhost:8080/",
          "height": 472
        },
        "outputId": "eeca6eff-33ed-4ff9-c55c-71e4238f17ff"
      },
      "execution_count": 59,
      "outputs": [
        {
          "output_type": "display_data",
          "data": {
            "text/plain": [
              "<Figure size 640x480 with 1 Axes>"
            ],
            "image/png": "[encoded data removed]"
          },
          "metadata": {}
        }
      ]
    }
  ]
}